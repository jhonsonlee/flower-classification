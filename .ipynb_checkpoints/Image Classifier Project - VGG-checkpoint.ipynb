{
 "cells": [
  {
   "cell_type": "markdown",
   "metadata": {
    "colab_type": "text",
    "id": "qZw6dh1KR-gm"
   },
   "source": [
    "# Developing an AI application\n",
    "\n",
    "Going forward, AI algorithms will be incorporated into more and more everyday applications. For example, you might want to include an image classifier in a smart phone app. To do this, you'd use a deep learning model trained on hundreds of thousands of images as part of the overall application architecture. A large part of software development in the future will be using these types of models as common parts of applications. \n",
    "\n",
    "In this project, you'll train an image classifier to recognize different species of flowers. You can imagine using something like this in a phone app that tells you the name of the flower your camera is looking at. In practice you'd train this classifier, then export it for use in your application. We'll be using [this dataset](http://www.robots.ox.ac.uk/~vgg/data/flowers/102/index.html) of 102 flower categories, you can see a few examples below. \n",
    "\n",
    "<img src='assets/Flowers.png' width=500px>\n",
    "\n",
    "The project is broken down into multiple steps:\n",
    "\n",
    "* Load and preprocess the image dataset\n",
    "* Train the image classifier on your dataset\n",
    "* Use the trained classifier to predict image content\n",
    "\n",
    "We'll lead you through each part which you'll implement in Python.\n",
    "\n",
    "When you've completed this project, you'll have an application that can be trained on any set of labeled images. Here your network will be learning about flowers and end up as a command line application. But, what you do with your new skills depends on your imagination and effort in building a dataset. For example, imagine an app where you take a picture of a car, it tells you what the make and model is, then looks up information about it. Go build your own dataset and make something new.\n",
    "\n",
    "First up is importing the packages you'll need. It's good practice to keep all the imports at the beginning of your code. As you work through this notebook and find you need to import a package, make sure to add the import up here."
   ]
  },
  {
   "cell_type": "code",
   "execution_count": 0,
   "metadata": {
    "colab": {
     "base_uri": "https://localhost:8080/",
     "height": 122
    },
    "colab_type": "code",
    "executionInfo": {
     "elapsed": 53846,
     "status": "ok",
     "timestamp": 1546836220992,
     "user": {
      "displayName": "Jhonson Lee",
      "photoUrl": "https://lh4.googleusercontent.com/-AcQ88cJUjnw/AAAAAAAAAAI/AAAAAAAAABU/LIyW-YyHq7s/s64/photo.jpg",
      "userId": "12072072147358097828"
     },
     "user_tz": -420
    },
    "id": "qi715UMJR-gs",
    "outputId": "ac30ca70-e47c-4bdf-c07c-8ac01fd53e52"
   },
   "outputs": [
    {
     "name": "stdout",
     "output_type": "stream",
     "text": [
      "Go to this URL in a browser: https://accounts.google.com/o/oauth2/auth?client_id=947318989803-6bn6qk8qdgf4n4g3pfee6491hc0brc4i.apps.googleusercontent.com&redirect_uri=urn%3Aietf%3Awg%3Aoauth%3A2.0%3Aoob&scope=email%20https%3A%2F%2Fwww.googleapis.com%2Fauth%2Fdocs.test%20https%3A%2F%2Fwww.googleapis.com%2Fauth%2Fdrive%20https%3A%2F%2Fwww.googleapis.com%2Fauth%2Fdrive.photos.readonly%20https%3A%2F%2Fwww.googleapis.com%2Fauth%2Fpeopleapi.readonly&response_type=code\n",
      "\n",
      "Enter your authorization code:\n",
      "··········\n",
      "Mounted at /content/gdrive\n"
     ]
    }
   ],
   "source": [
    "# Activate google drive sync\n",
    "from google.colab import drive\n",
    "drive.mount('/content/gdrive')"
   ]
  },
  {
   "cell_type": "code",
   "execution_count": 0,
   "metadata": {
    "colab": {},
    "colab_type": "code",
    "id": "S9do9Qf_9rJp"
   },
   "outputs": [],
   "source": [
    "# Change directory to the workspace\n",
    "import os\n",
    "os.chdir(\"/content/gdrive/My Drive/jhonson_colab/pytorch_challenge/\")"
   ]
  },
  {
   "cell_type": "code",
   "execution_count": 0,
   "metadata": {
    "colab": {
     "base_uri": "https://localhost:8080/",
     "height": 54
    },
    "colab_type": "code",
    "executionInfo": {
     "elapsed": 52072,
     "status": "ok",
     "timestamp": 1546836293164,
     "user": {
      "displayName": "Jhonson Lee",
      "photoUrl": "https://lh4.googleusercontent.com/-AcQ88cJUjnw/AAAAAAAAAAI/AAAAAAAAABU/LIyW-YyHq7s/s64/photo.jpg",
      "userId": "12072072147358097828"
     },
     "user_tz": -420
    },
    "id": "l3K_MCMy_BYX",
    "outputId": "3fb81657-7f42-480a-c3eb-5e1783495625"
   },
   "outputs": [
    {
     "name": "stdout",
     "output_type": "stream",
     "text": [
      "tcmalloc: large alloc 1073750016 bytes == 0x5b1b4000 @  0x7f337059e2a4 0x591a07 0x5b5d56 0x502e9a 0x506859 0x502209 0x502f3d 0x506859 0x504c28 0x502540 0x502f3d 0x506859 0x504c28 0x502540 0x502f3d 0x506859 0x504c28 0x502540 0x502f3d 0x507641 0x502209 0x502f3d 0x506859 0x504c28 0x502540 0x502f3d 0x507641 0x504c28 0x502540 0x502f3d 0x507641\n"
     ]
    }
   ],
   "source": [
    "# Installing Pytorch\n",
    "# http://pytorch.org/\n",
    "from os import path\n",
    "from wheel.pep425tags import get_abbr_impl, get_impl_ver, get_abi_tag\n",
    "platform = '{}{}-{}'.format(get_abbr_impl(), get_impl_ver(), get_abi_tag())\n",
    "\n",
    "accelerator = 'cu80' if path.exists('/opt/bin/nvidia-smi') else 'cpu'\n",
    "\n",
    "!pip install -q http://download.pytorch.org/whl/{accelerator}/torch-0.4.0-{platform}-linux_x86_64.whl torchvision"
   ]
  },
  {
   "cell_type": "code",
   "execution_count": 0,
   "metadata": {
    "colab": {
     "base_uri": "https://localhost:8080/",
     "height": 156
    },
    "colab_type": "code",
    "executionInfo": {
     "elapsed": 487,
     "status": "ok",
     "timestamp": 1546836640151,
     "user": {
      "displayName": "Jhonson Lee",
      "photoUrl": "https://lh4.googleusercontent.com/-AcQ88cJUjnw/AAAAAAAAAAI/AAAAAAAAABU/LIyW-YyHq7s/s64/photo.jpg",
      "userId": "12072072147358097828"
     },
     "user_tz": -420
    },
    "id": "lv0uoQGb9-rN",
    "outputId": "b3fc2ad1-ea97-4bd7-d08b-6e9d4a69d59c"
   },
   "outputs": [
    {
     "name": "stdout",
     "output_type": "stream",
     "text": [
      "Uninstalling Pillow-5.3.0:\n",
      "  Successfully uninstalled Pillow-5.3.0\n",
      "Collecting Pillow==5.3.0\n",
      "  Using cached https://files.pythonhosted.org/packages/62/94/5430ebaa83f91cc7a9f687ff5238e26164a779cca2ef9903232268b0a318/Pillow-5.3.0-cp36-cp36m-manylinux1_x86_64.whl\n",
      "Installing collected packages: Pillow\n",
      "Successfully installed Pillow-5.3.0\n",
      "5.3.0\n"
     ]
    }
   ],
   "source": [
    "# we need pillow version of 5.3.0\n",
    "# we will uninstall the older version first\n",
    "!pip uninstall -y Pillow\n",
    "# install the new one\n",
    "!pip install Pillow==5.3.0\n",
    "# import the new one\n",
    "import PIL\n",
    "print(PIL.PILLOW_VERSION)\n",
    "# this should print 5.3.0. If it doesn't, then restart your runtime:\n",
    "# Menu > Runtime > Restart Runtime"
   ]
  },
  {
   "cell_type": "code",
   "execution_count": 0,
   "metadata": {
    "colab": {},
    "colab_type": "code",
    "id": "N1_uWs4F85Nk"
   },
   "outputs": [],
   "source": [
    "# Imports here\n",
    "import matplotlib.pyplot as plt\n",
    "%matplotlib inline\n",
    "\n",
    "import numpy as np\n",
    "\n",
    "import torch\n",
    "from torch import nn\n",
    "from PIL import Image\n",
    "from torch import optim\n",
    "import torch.nn.functional as F\n",
    "from torchvision import datasets, transforms, models\n",
    "\n"
   ]
  },
  {
   "cell_type": "code",
   "execution_count": 0,
   "metadata": {
    "colab": {
     "base_uri": "https://localhost:8080/",
     "height": 34
    },
    "colab_type": "code",
    "executionInfo": {
     "elapsed": 688,
     "status": "ok",
     "timestamp": 1546836437698,
     "user": {
      "displayName": "Jhonson Lee",
      "photoUrl": "https://lh4.googleusercontent.com/-AcQ88cJUjnw/AAAAAAAAAAI/AAAAAAAAABU/LIyW-YyHq7s/s64/photo.jpg",
      "userId": "12072072147358097828"
     },
     "user_tz": -420
    },
    "id": "0mxIun_QCP6B",
    "outputId": "408e8eee-cf22-4917-e710-8b1645c7c4f9"
   },
   "outputs": [
    {
     "name": "stdout",
     "output_type": "stream",
     "text": [
      "CUDA is available!  Training on GPU ...\n"
     ]
    }
   ],
   "source": [
    "# check if CUDA is available\n",
    "train_on_gpu = torch.cuda.is_available()\n",
    "\n",
    "if not train_on_gpu:\n",
    "    print('CUDA is not available.  Training on CPU ...')\n",
    "else:\n",
    "    print('CUDA is available!  Training on GPU ...')"
   ]
  },
  {
   "cell_type": "markdown",
   "metadata": {
    "colab_type": "text",
    "id": "cZjDEZU-R-hA"
   },
   "source": [
    "## Load the data\n",
    "\n",
    "Here you'll use `torchvision` to load the data ([documentation](http://pytorch.org/docs/0.3.0/torchvision/index.html)). You can [download the data here](https://s3.amazonaws.com/content.udacity-data.com/courses/nd188/flower_data.zip). The dataset is split into two parts, training and validation. For the training, you'll want to apply transformations such as random scaling, cropping, and flipping. This will help the network generalize leading to better performance. If you use a pre-trained network, you'll also need to make sure the input data is resized to 224x224 pixels as required by the networks.\n",
    "\n",
    "The validation set is used to measure the model's performance on data it hasn't seen yet. For this you don't want any scaling or rotation transformations, but you'll need to resize then crop the images to the appropriate size.\n",
    "\n",
    "The pre-trained networks available from `torchvision` were trained on the ImageNet dataset where each color channel was normalized separately. For both sets you'll need to normalize the means and standard deviations of the images to what the network expects. For the means, it's `[0.485, 0.456, 0.406]` and for the standard deviations `[0.229, 0.224, 0.225]`, calculated from the ImageNet images.  These values will shift each color channel to be centered at 0 and range from -1 to 1."
   ]
  },
  {
   "cell_type": "code",
   "execution_count": 0,
   "metadata": {
    "colab": {},
    "colab_type": "code",
    "id": "GrT6kEcbR-hK"
   },
   "outputs": [],
   "source": [
    "data_dir = '/content/gdrive/My Drive/jhonson_colab/pytorch_challenge/flower_data'\n",
    "train_dir = data_dir + '/train'\n",
    "valid_dir = data_dir + '/valid'"
   ]
  },
  {
   "cell_type": "code",
   "execution_count": 0,
   "metadata": {
    "colab": {},
    "colab_type": "code",
    "id": "qDFonvISR-hX"
   },
   "outputs": [],
   "source": [
    "num_workers = 0\n",
    "batch_size = 64\n",
    "\n",
    "# Transforms for the training and validation sets\n",
    "train_transforms = transforms.Compose([transforms.RandomRotation(20),\n",
    "                                       transforms.RandomResizedCrop(224),\n",
    "                                       transforms.RandomHorizontalFlip(),\n",
    "                                       transforms.ToTensor(),\n",
    "                                       transforms.Normalize([0.485, 0.456, 0.406],\n",
    "                                                            [0.229, 0.224, 0.225])])\n",
    "\n",
    "valid_transforms = transforms.Compose([transforms.Resize(255),\n",
    "                                     transforms.CenterCrop(224),\n",
    "                                     transforms.ToTensor(),\n",
    "                                     transforms.Normalize([0.485, 0.456, 0.406],\n",
    "                                                          [0.229, 0.224, 0.225])])\n",
    "\n",
    "\n",
    "# Load the datasets with ImageFolder\n",
    "train_data = datasets.ImageFolder(train_dir, transform=train_transforms)\n",
    "valid_data = datasets.ImageFolder(valid_dir, transform=valid_transforms)\n",
    "\n",
    "# Using the image datasets and the trainforms, define the dataloaders\n",
    "trainloader = torch.utils.data.DataLoader(train_data, batch_size=batch_size, shuffle=True, num_workers=num_workers)\n",
    "validloader = torch.utils.data.DataLoader(valid_data, batch_size=batch_size, num_workers=num_workers)"
   ]
  },
  {
   "cell_type": "markdown",
   "metadata": {
    "colab_type": "text",
    "id": "nJmHbtfVR-hj"
   },
   "source": [
    "### Label mapping\n",
    "\n",
    "You'll also need to load in a mapping from category label to category name. You can find this in the file `cat_to_name.json`. It's a JSON object which you can read in with the [`json` module](https://docs.python.org/2/library/json.html). This will give you a dictionary mapping the integer encoded categories to the actual names of the flowers."
   ]
  },
  {
   "cell_type": "code",
   "execution_count": 0,
   "metadata": {
    "colab": {},
    "colab_type": "code",
    "id": "l0js9Uz3R-hn"
   },
   "outputs": [],
   "source": [
    "import json\n",
    "\n",
    "with open('cat_to_name.json', 'r') as f:\n",
    "    cat_to_name = json.load(f)"
   ]
  },
  {
   "cell_type": "markdown",
   "metadata": {
    "colab_type": "text",
    "id": "tvaXgZgCR-h5"
   },
   "source": [
    "# Building and training the classifier\n",
    "\n",
    "Now that the data is ready, it's time to build and train the classifier. As usual, you should use one of the pretrained models from `torchvision.models` to get the image features. Build and train a new feed-forward classifier using those features.\n",
    "\n",
    "We're going to leave this part up to you. If you want to talk through it with someone, chat with your fellow students! You can also ask questions on the forums or join the instructors in office hours.\n",
    "\n",
    "Refer to [the rubric](https://review.udacity.com/#!/rubrics/1663/view) for guidance on successfully completing this section. Things you'll need to do:\n",
    "\n",
    "* Load a [pre-trained network](http://pytorch.org/docs/master/torchvision/models.html) (If you need a starting point, the VGG networks work great and are straightforward to use)\n",
    "* Define a new, untrained feed-forward network as a classifier, using ReLU activations and dropout\n",
    "* Train the classifier layers using backpropagation using the pre-trained network to get the features\n",
    "* Track the loss and accuracy on the validation set to determine the best hyperparameters\n",
    "\n",
    "We've left a cell open for you below, but use as many as you need. Our advice is to break the problem up into smaller parts you can run separately. Check that each part is doing what you expect, then move on to the next. You'll likely find that as you work through each part, you'll need to go back and modify your previous code. This is totally normal!\n",
    "\n",
    "When training make sure you're updating only the weights of the feed-forward network. You should be able to get the validation accuracy above 70% if you build everything right. Make sure to try different hyperparameters (learning rate, units in the classifier, epochs, etc) to find the best model. Save those hyperparameters to use as default values in the next part of the project."
   ]
  },
  {
   "cell_type": "code",
   "execution_count": 21,
   "metadata": {
    "colab": {
     "base_uri": "https://localhost:8080/",
     "height": 782
    },
    "colab_type": "code",
    "executionInfo": {
     "elapsed": 2927,
     "status": "ok",
     "timestamp": 1546846539236,
     "user": {
      "displayName": "Jhonson Lee",
      "photoUrl": "https://lh4.googleusercontent.com/-AcQ88cJUjnw/AAAAAAAAAAI/AAAAAAAAABU/LIyW-YyHq7s/s64/photo.jpg",
      "userId": "12072072147358097828"
     },
     "user_tz": -420
    },
    "id": "FQcPbMF3R-iD",
    "outputId": "05f1871b-ab6b-43c3-9351-5e75aa82c8b0"
   },
   "outputs": [
    {
     "name": "stdout",
     "output_type": "stream",
     "text": [
      "VGG(\n",
      "  (features): Sequential(\n",
      "    (0): Conv2d(3, 64, kernel_size=(3, 3), stride=(1, 1), padding=(1, 1))\n",
      "    (1): ReLU(inplace)\n",
      "    (2): Conv2d(64, 64, kernel_size=(3, 3), stride=(1, 1), padding=(1, 1))\n",
      "    (3): ReLU(inplace)\n",
      "    (4): MaxPool2d(kernel_size=2, stride=2, padding=0, dilation=1, ceil_mode=False)\n",
      "    (5): Conv2d(64, 128, kernel_size=(3, 3), stride=(1, 1), padding=(1, 1))\n",
      "    (6): ReLU(inplace)\n",
      "    (7): Conv2d(128, 128, kernel_size=(3, 3), stride=(1, 1), padding=(1, 1))\n",
      "    (8): ReLU(inplace)\n",
      "    (9): MaxPool2d(kernel_size=2, stride=2, padding=0, dilation=1, ceil_mode=False)\n",
      "    (10): Conv2d(128, 256, kernel_size=(3, 3), stride=(1, 1), padding=(1, 1))\n",
      "    (11): ReLU(inplace)\n",
      "    (12): Conv2d(256, 256, kernel_size=(3, 3), stride=(1, 1), padding=(1, 1))\n",
      "    (13): ReLU(inplace)\n",
      "    (14): Conv2d(256, 256, kernel_size=(3, 3), stride=(1, 1), padding=(1, 1))\n",
      "    (15): ReLU(inplace)\n",
      "    (16): MaxPool2d(kernel_size=2, stride=2, padding=0, dilation=1, ceil_mode=False)\n",
      "    (17): Conv2d(256, 512, kernel_size=(3, 3), stride=(1, 1), padding=(1, 1))\n",
      "    (18): ReLU(inplace)\n",
      "    (19): Conv2d(512, 512, kernel_size=(3, 3), stride=(1, 1), padding=(1, 1))\n",
      "    (20): ReLU(inplace)\n",
      "    (21): Conv2d(512, 512, kernel_size=(3, 3), stride=(1, 1), padding=(1, 1))\n",
      "    (22): ReLU(inplace)\n",
      "    (23): MaxPool2d(kernel_size=2, stride=2, padding=0, dilation=1, ceil_mode=False)\n",
      "    (24): Conv2d(512, 512, kernel_size=(3, 3), stride=(1, 1), padding=(1, 1))\n",
      "    (25): ReLU(inplace)\n",
      "    (26): Conv2d(512, 512, kernel_size=(3, 3), stride=(1, 1), padding=(1, 1))\n",
      "    (27): ReLU(inplace)\n",
      "    (28): Conv2d(512, 512, kernel_size=(3, 3), stride=(1, 1), padding=(1, 1))\n",
      "    (29): ReLU(inplace)\n",
      "    (30): MaxPool2d(kernel_size=2, stride=2, padding=0, dilation=1, ceil_mode=False)\n",
      "  )\n",
      "  (classifier): Sequential(\n",
      "    (0): Linear(in_features=25088, out_features=1024, bias=True)\n",
      "    (1): ReLU()\n",
      "    (2): Dropout(p=0.5)\n",
      "    (3): Linear(in_features=1024, out_features=1024, bias=True)\n",
      "    (4): ReLU()\n",
      "    (5): Dropout(p=0.5)\n",
      "    (6): Linear(in_features=1024, out_features=102, bias=True)\n",
      "    (7): LogSoftmax()\n",
      "  )\n",
      ")\n"
     ]
    }
   ],
   "source": [
    "# Define The Network\n",
    "\n",
    "# Hyperparameters\n",
    "input_layer = 25088\n",
    "hidden_layer_1 = 1024\n",
    "hidden_layer_2 = 1024\n",
    "output_layer = 102\n",
    "\n",
    "# Use GPU if it is available\n",
    "device = torch.device(\"cuda\" if torch.cuda.is_available() else \"cpu\")\n",
    "\n",
    "# Model Instatiation\n",
    "model = models.vgg16(pretrained=True)\n",
    "\n",
    "# Parameter Training Mode Setting\n",
    "for param in model.parameters():\n",
    "  param.requires_grad = False\n",
    "\n",
    "# Redefine the Classifier\n",
    "model.classifier = nn.Sequential(nn.Linear(input_layer, hidden_layer_1),\n",
    "                                 nn.ReLU(),\n",
    "                                 nn.Dropout(0.5),\n",
    "                                 nn.Linear(hidden_layer_1, hidden_layer_2),\n",
    "                                 nn.ReLU(),\n",
    "                                 nn.Dropout(0.5),\n",
    "                                 nn.Linear(hidden_layer_2, output_layer),\n",
    "                                 nn.LogSoftmax(dim=1))\n",
    "\n",
    "# Show Network Detail\n",
    "print(model)\n",
    "\n"
   ]
  },
  {
   "cell_type": "code",
   "execution_count": 0,
   "metadata": {
    "colab": {
     "base_uri": "https://localhost:8080/",
     "height": 629
    },
    "colab_type": "code",
    "executionInfo": {
     "elapsed": 2405728,
     "status": "ok",
     "timestamp": 1546712616652,
     "user": {
      "displayName": "Jhonson Lee",
      "photoUrl": "https://lh4.googleusercontent.com/-AcQ88cJUjnw/AAAAAAAAAAI/AAAAAAAAABU/LIyW-YyHq7s/s64/photo.jpg",
      "userId": "12072072147358097828"
     },
     "user_tz": -420
    },
    "id": "2kUbJbza8P-P",
    "outputId": "51889281-4241-4b80-bb01-022e6039c8c9"
   },
   "outputs": [
    {
     "name": "stdout",
     "output_type": "stream",
     "text": [
      "Epoch: 1 \tTraining Loss: 0.888668 \tValidation Loss: 0.378038\n",
      "Validation loss decreased (0.381354 --> 0.378038).  Saving model ...\n",
      "Accuracy: 90.46%\n",
      " \n",
      "Epoch: 2 \tTraining Loss: 0.844580 \tValidation Loss: 0.374524\n",
      "Validation loss decreased (0.378038 --> 0.374524).  Saving model ...\n",
      "Accuracy: 91.44%\n",
      " \n",
      "Epoch: 3 \tTraining Loss: 0.802744 \tValidation Loss: 0.357142\n",
      "Validation loss decreased (0.374524 --> 0.357142).  Saving model ...\n",
      "Accuracy: 92.18%\n",
      " \n",
      "Epoch: 4 \tTraining Loss: 0.774174 \tValidation Loss: 0.346032\n",
      "Validation loss decreased (0.357142 --> 0.346032).  Saving model ...\n",
      "Accuracy: 92.18%\n",
      " \n",
      "Epoch: 5 \tTraining Loss: 0.790147 \tValidation Loss: 0.346615\n",
      "Accuracy: 92.18%\n",
      " \n",
      "Epoch: 6 \tTraining Loss: 0.763265 \tValidation Loss: 0.343086\n",
      "Validation loss decreased (0.346032 --> 0.343086).  Saving model ...\n",
      "Accuracy: 92.42%\n",
      " \n",
      "Epoch: 7 \tTraining Loss: 0.746064 \tValidation Loss: 0.354775\n",
      "Accuracy: 92.05%\n",
      " \n",
      "Epoch: 8 \tTraining Loss: 0.763204 \tValidation Loss: 0.342051\n",
      "Validation loss decreased (0.343086 --> 0.342051).  Saving model ...\n",
      "Accuracy: 92.42%\n",
      " \n",
      "Epoch: 9 \tTraining Loss: 0.763573 \tValidation Loss: 0.344278\n",
      "Accuracy: 92.54%\n",
      " \n",
      "Epoch: 10 \tTraining Loss: 0.738024 \tValidation Loss: 0.349281\n",
      "Accuracy: 92.42%\n",
      " \n"
     ]
    }
   ],
   "source": [
    "######################\n",
    "## Training Phase 1 ##\n",
    "######################\n",
    "\n",
    "CkpntFileName = 'checkpoint_5Jan.pt' # Checkpoint filename\n",
    "\n",
    "# Learning Parameters\n",
    "n_epoch = 30\n",
    "learningrate = 0.0001\n",
    "\n",
    "# Unfreeze The Classifier\n",
    "for param in model.classifier.parameters():\n",
    "  param.requires_grad = True\n",
    "\n",
    "# Setting loss function and optimizer\n",
    "criterion = nn.NLLLoss()\n",
    "optimizer = optim.Adam(model.classifier.parameters(), lr=learningrate)\n",
    "\n",
    "# Load model into GPU\n",
    "model.to(device)\n",
    "\n",
    "# Training Process\n",
    "valid_loss_min = np.Inf\n",
    "\n",
    "for epoch in range(1, n_epoch+1):\n",
    "  \n",
    "  train_loss = 0.0\n",
    "  valid_loss = 0.0\n",
    "  truepos = 0\n",
    "  amount = 0\n",
    "  \n",
    "  # Train the model\n",
    "  \n",
    "  model.train()\n",
    "  \n",
    "  for data, target in trainloader:\n",
    "    data, target = data.to(device), target.to(device)\n",
    "    \n",
    "    optimizer.zero_grad()\n",
    "    output = model(data)\n",
    "    loss = criterion(output, target)\n",
    "    loss.backward()\n",
    "    optimizer.step()\n",
    "    \n",
    "    train_loss += loss.item()*data.size(0)\n",
    "    \n",
    "  \n",
    "  # Validate Model\n",
    "  \n",
    "  model.eval()\n",
    "  \n",
    "  for data, target in validloader:\n",
    "    data, target = data.to(device), target.to(device)\n",
    "    \n",
    "    output = model(data)\n",
    "    loss = criterion(output, target)\n",
    "    valid_loss += loss.item()*data.size(0)\n",
    "    \n",
    "    # Calculate Accucary\n",
    "    ps = torch.exp(output)\n",
    "    top_p, top_class = ps.topk(1, dim=1)\n",
    "    equals = top_class == target.view(*top_class.shape)\n",
    "    truepos += (torch.sum(equals)).item()\n",
    "    amount += target.shape[0]\n",
    "    \n",
    "  \n",
    "  # Calculate loss and accuracy\n",
    "  train_loss = train_loss/len(trainloader.dataset)\n",
    "  valid_loss = valid_loss/len(validloader.dataset)\n",
    "  accuracy = truepos/amount\n",
    "  \n",
    "  \n",
    "  # Training status display\n",
    "  print('Epoch: {} \\tTraining Loss: {:.6f} \\tValidation Loss: {:.6f}'.format(\n",
    "        epoch, train_loss, valid_loss))\n",
    "  \n",
    "  if valid_loss < valid_loss_min:\n",
    "    print('Validation loss decreased ({:.6f} --> {:.6f}).  Saving model ...'.format(\n",
    "        valid_loss_min,\n",
    "        valid_loss))\n",
    "    torch.save(model.state_dict(), CkpntFileName)\n",
    "    valid_loss_min = valid_loss\n",
    "    \n",
    "  print('Accuracy: {:.2f}%' .format(accuracy*100))\n",
    "  print(' ')"
   ]
  },
  {
   "cell_type": "code",
   "execution_count": 0,
   "metadata": {
    "colab": {
     "base_uri": "https://localhost:8080/",
     "height": 612
    },
    "colab_type": "code",
    "executionInfo": {
     "elapsed": 4994958,
     "status": "ok",
     "timestamp": 1546756186137,
     "user": {
      "displayName": "Jhonson Lee",
      "photoUrl": "https://lh4.googleusercontent.com/-AcQ88cJUjnw/AAAAAAAAAAI/AAAAAAAAABU/LIyW-YyHq7s/s64/photo.jpg",
      "userId": "12072072147358097828"
     },
     "user_tz": -420
    },
    "id": "JRaGmux3A4go",
    "outputId": "063a169e-bb16-4518-c637-7faf56f5ceec"
   },
   "outputs": [
    {
     "name": "stdout",
     "output_type": "stream",
     "text": [
      "Epoch: 1 \tTraining Loss: 0.710656 \tValidation Loss: 0.339885\n",
      "Validation loss decreased (0.342051 --> 0.339885).  Saving model ...\n",
      "Accuracy: 92.30%\n",
      " \n",
      "Epoch: 2 \tTraining Loss: 0.684422 \tValidation Loss: 0.338568\n",
      "Validation loss decreased (0.339885 --> 0.338568).  Saving model ...\n",
      "Accuracy: 92.30%\n",
      " \n",
      "Epoch: 3 \tTraining Loss: 0.707619 \tValidation Loss: 0.337810\n",
      "Validation loss decreased (0.338568 --> 0.337810).  Saving model ...\n",
      "Accuracy: 92.30%\n",
      " \n",
      "Epoch: 4 \tTraining Loss: 0.691756 \tValidation Loss: 0.337710\n",
      "Validation loss decreased (0.337810 --> 0.337710).  Saving model ...\n",
      "Accuracy: 92.30%\n",
      " \n",
      "Epoch: 5 \tTraining Loss: 0.697516 \tValidation Loss: 0.336639\n",
      "Validation loss decreased (0.337710 --> 0.336639).  Saving model ...\n",
      "Accuracy: 92.30%\n",
      " \n",
      "Epoch: 6 \tTraining Loss: 0.716289 \tValidation Loss: 0.337034\n",
      "Accuracy: 92.18%\n",
      " \n",
      "Epoch: 7 \tTraining Loss: 0.726108 \tValidation Loss: 0.337832\n",
      "Accuracy: 92.30%\n",
      " \n",
      "Epoch: 8 \tTraining Loss: 0.727568 \tValidation Loss: 0.337242\n",
      "Accuracy: 92.30%\n",
      " \n",
      "Epoch: 9 \tTraining Loss: 0.690562 \tValidation Loss: 0.336737\n",
      "Accuracy: 92.30%\n",
      " \n",
      "Epoch: 10 \tTraining Loss: 0.696827 \tValidation Loss: 0.337308\n",
      "Accuracy: 92.42%\n",
      " \n"
     ]
    }
   ],
   "source": [
    "######################\n",
    "## Training Phase 2 ##\n",
    "######################\n",
    "\n",
    "# Learning Parameters\n",
    "n_epoch = 10\n",
    "learningrate = 0.00001\n",
    "ConvLayerTrained = [28, 26, 24] # List of conv layers to be trained\n",
    "\n",
    "# Unfreeze The Classifier\n",
    "for param in model.classifier.parameters():\n",
    "  param.requires_grad = True\n",
    "\n",
    "# Unfreeze Designated Convolutional Layers\n",
    "child_layer = 0\n",
    "for child in model.features.children():\n",
    "  \n",
    "  if child_layer in ConvLayerTrained:\n",
    "    for param in child.parameters():\n",
    "      param.requires_grad = True\n",
    "      \n",
    "  else:\n",
    "    for param in child.parameters():\n",
    "      param.requires_grad = False\n",
    "      \n",
    "  child_layer += 1\n",
    "\n",
    "\n",
    "\n",
    "# Setting loss function and optimizer\n",
    "criterion = nn.NLLLoss()\n",
    "optimizer = optim.Adam(model.classifier.parameters(), lr=learningrate)\n",
    "\n",
    "# Put model into the GPU\n",
    "model.to(device)\n",
    "\n",
    "\n",
    "# Training Process\n",
    "\n",
    "for epoch in range(1, n_epoch+1):\n",
    "  \n",
    "  train_loss = 0.0\n",
    "  valid_loss = 0.0\n",
    "  truepos = 0\n",
    "  amount = 0\n",
    "  \n",
    "  # Train the model\n",
    "  \n",
    "  model.train()\n",
    "  \n",
    "  for data, target in trainloader:\n",
    "    data, target = data.to(device), target.to(device)\n",
    "    \n",
    "    optimizer.zero_grad()\n",
    "    output = model(data)\n",
    "    loss = criterion(output, target)\n",
    "    loss.backward()\n",
    "    optimizer.step()\n",
    "    \n",
    "    train_loss += loss.item()*data.size(0)\n",
    "    \n",
    "  # Validate Model\n",
    "  model.eval()\n",
    "  \n",
    "  for data, target in validloader:\n",
    "    data, target = data.to(device), target.to(device)\n",
    "    \n",
    "    output = model(data)\n",
    "    loss = criterion(output, target)\n",
    "    valid_loss += loss.item()*data.size(0)\n",
    "    \n",
    "    # Calculate Accucary\n",
    "    ps = torch.exp(output)\n",
    "    top_p, top_class = ps.topk(1, dim=1)\n",
    "    equals = top_class == target.view(*top_class.shape)\n",
    "    truepos += (torch.sum(equals)).item()\n",
    "    amount += target.shape[0]\n",
    "    \n",
    "  # Loss and accuracy calculation\n",
    "  train_loss = train_loss/len(trainloader.dataset)\n",
    "  valid_loss = valid_loss/len(validloader.dataset)\n",
    "  accuracy = truepos/amount\n",
    "  \n",
    "  # Display Training Status\n",
    "  print('Epoch: {} \\tTraining Loss: {:.6f} \\tValidation Loss: {:.6f}'.format(\n",
    "        epoch, train_loss, valid_loss))\n",
    "  \n",
    "  if valid_loss < valid_loss_min:\n",
    "    print('Validation loss decreased ({:.6f} --> {:.6f}).  Saving model ...'.format(\n",
    "        valid_loss_min,\n",
    "        valid_loss))\n",
    "    torch.save(model.state_dict(), CkpntFileName)\n",
    "    valid_loss_min = valid_loss\n",
    "    \n",
    "  print('Accuracy: {:.2f}%' .format(accuracy*100))\n",
    "  print(' ')"
   ]
  },
  {
   "cell_type": "code",
   "execution_count": 0,
   "metadata": {
    "colab": {
     "base_uri": "https://localhost:8080/",
     "height": 578
    },
    "colab_type": "code",
    "executionInfo": {
     "elapsed": 4986982,
     "status": "ok",
     "timestamp": 1546767512744,
     "user": {
      "displayName": "Jhonson Lee",
      "photoUrl": "https://lh4.googleusercontent.com/-AcQ88cJUjnw/AAAAAAAAAAI/AAAAAAAAABU/LIyW-YyHq7s/s64/photo.jpg",
      "userId": "12072072147358097828"
     },
     "user_tz": -420
    },
    "id": "nuWq_D7dcDMT",
    "outputId": "3253b8f3-3c17-4d35-e2d7-733a0f9b7e8d"
   },
   "outputs": [
    {
     "name": "stdout",
     "output_type": "stream",
     "text": [
      "Epoch: 1 \tTraining Loss: 0.621462 \tValidation Loss: 0.325787\n",
      "Accuracy: 93.03%\n",
      " \n",
      "Epoch: 2 \tTraining Loss: 0.614978 \tValidation Loss: 0.330349\n",
      "Accuracy: 93.15%\n",
      " \n",
      "Epoch: 3 \tTraining Loss: 0.623337 \tValidation Loss: 0.325687\n",
      "Accuracy: 93.15%\n",
      " \n",
      "Epoch: 4 \tTraining Loss: 0.611231 \tValidation Loss: 0.331775\n",
      "Accuracy: 92.67%\n",
      " \n",
      "Epoch: 5 \tTraining Loss: 0.608845 \tValidation Loss: 0.322159\n",
      "Validation loss decreased (0.322736 --> 0.322159).  Saving model ...\n",
      "Accuracy: 94.01%\n",
      " \n",
      "Epoch: 6 \tTraining Loss: 0.623017 \tValidation Loss: 0.332683\n",
      "Accuracy: 93.40%\n",
      " \n",
      "Epoch: 7 \tTraining Loss: 0.620491 \tValidation Loss: 0.322100\n",
      "Validation loss decreased (0.322159 --> 0.322100).  Saving model ...\n",
      "Accuracy: 93.64%\n",
      " \n",
      "Epoch: 8 \tTraining Loss: 0.610762 \tValidation Loss: 0.325558\n",
      "Accuracy: 93.40%\n",
      " \n",
      "Epoch: 9 \tTraining Loss: 0.592375 \tValidation Loss: 0.312182\n",
      "Validation loss decreased (0.322100 --> 0.312182).  Saving model ...\n",
      "Accuracy: 93.52%\n",
      " \n",
      "Epoch: 10 \tTraining Loss: 0.622226 \tValidation Loss: 0.327261\n",
      "Accuracy: 92.54%\n",
      " \n"
     ]
    }
   ],
   "source": [
    "######################\n",
    "## Training Phase 3 ##\n",
    "######################\n",
    "\n",
    "# Learning Parameters\n",
    "n_epoch = 10\n",
    "learningrate = 0.0001\n",
    "ConvLayerTrained = [28, 26, 24, 21, 19, 17, 14, 12, 10, 7] # List of conv layers to be trained\n",
    "\n",
    "# Unfreeze The Classifier\n",
    "for param in model.classifier.parameters():\n",
    "  param.requires_grad = True\n",
    "\n",
    "# Unfreeze Designated Convolutional Layers\n",
    "child_layer = 0\n",
    "for child in model.features.children():\n",
    "  \n",
    "  if child_layer in ConvLayerTrained:\n",
    "    for param in child.parameters():\n",
    "      param.requires_grad = True\n",
    "      \n",
    "  else:\n",
    "    for param in child.parameters():\n",
    "      param.requires_grad = False\n",
    "      \n",
    "  child_layer += 1\n",
    "\n",
    "\n",
    "\n",
    "# Setting loss function and optimizer\n",
    "criterion = nn.NLLLoss()\n",
    "optimizer = optim.Adam(model.classifier.parameters(), lr=learningrate)\n",
    "\n",
    "# Put model into the GPU\n",
    "model.to(device)\n",
    "\n",
    "\n",
    "# Training Process\n",
    "\n",
    "for epoch in range(1, n_epoch+1):\n",
    "  \n",
    "  train_loss = 0.0\n",
    "  valid_loss = 0.0\n",
    "  truepos = 0\n",
    "  amount = 0\n",
    "  \n",
    " \n",
    "  # Train the model\n",
    "  \n",
    "  model.train()\n",
    "  \n",
    "  for data, target in trainloader:\n",
    "    data, target = data.to(device), target.to(device)\n",
    "    \n",
    "    optimizer.zero_grad()\n",
    "    output = model(data)\n",
    "    loss = criterion(output, target)\n",
    "    loss.backward()\n",
    "    optimizer.step()\n",
    "    \n",
    "    train_loss += loss.item()*data.size(0)\n",
    "    \n",
    "  \n",
    "  # Validate Model\n",
    "  \n",
    "  model.eval()\n",
    "  \n",
    "  for data, target in validloader:\n",
    "    data, target = data.to(device), target.to(device)\n",
    "    \n",
    "    output = model(data)\n",
    "    loss = criterion(output, target)\n",
    "    valid_loss += loss.item()*data.size(0)\n",
    "    \n",
    "    # Calculate Accucary\n",
    "    ps = torch.exp(output)\n",
    "    top_p, top_class = ps.topk(1, dim=1)\n",
    "    equals = top_class == target.view(*top_class.shape)\n",
    "    truepos += (torch.sum(equals)).item()\n",
    "    amount += target.shape[0]\n",
    "    \n",
    "  # Loss and accuracy calculation\n",
    "  train_loss = train_loss/len(trainloader.dataset)\n",
    "  valid_loss = valid_loss/len(validloader.dataset)\n",
    "  accuracy = truepos/amount\n",
    "  \n",
    "  # Display training status\n",
    "  print('Epoch: {} \\tTraining Loss: {:.6f} \\tValidation Loss: {:.6f}'.format(\n",
    "        epoch, train_loss, valid_loss))\n",
    "  \n",
    "  if valid_loss < valid_loss_min:\n",
    "    print('Validation loss decreased ({:.6f} --> {:.6f}).  Saving model ...'.format(\n",
    "        valid_loss_min,\n",
    "        valid_loss))\n",
    "    torch.save(model.state_dict(), CkpntFileName)\n",
    "    valid_loss_min = valid_loss\n",
    "    \n",
    "  print('Accuracy: {:.2f}%' .format(accuracy*100))\n",
    "  print(' ')"
   ]
  },
  {
   "cell_type": "markdown",
   "metadata": {
    "colab_type": "text",
    "id": "civY2US2R-iP"
   },
   "source": [
    "## Save the checkpoint\n",
    "\n",
    "Now that your network is trained, save the model so you can load it later for making predictions. You probably want to save other things such as the mapping of classes to indices which you get from one of the image datasets: `image_datasets['train'].class_to_idx`. You can attach this to the model as an attribute which makes inference easier later on.\n",
    "\n",
    "```model.class_to_idx = image_datasets['train'].class_to_idx```\n",
    "\n",
    "Remember that you'll want to completely rebuild the model later so you can use it for inference. Make sure to include any information you need in the checkpoint. If you want to load the model and keep training, you'll want to save the number of epochs as well as the optimizer state, `optimizer.state_dict`. You'll likely want to use this trained model in the next part of the project, so best to save it now."
   ]
  },
  {
   "cell_type": "code",
   "execution_count": 0,
   "metadata": {
    "colab": {},
    "colab_type": "code",
    "id": "EtL2OwIPR-iV"
   },
   "outputs": [],
   "source": [
    "# Save the checkpoint \n",
    "\n",
    "file_name = 'model_final.pt'\n",
    "\n",
    "checkpoint = {'input_layer' : input_layer,\n",
    "              'hidden_layer_1' : hidden_layer_1,\n",
    "              'hidden_layer_2' : hidden_layer_2,\n",
    "              'output_layer' : output_layer,\n",
    "              'state_dict' : model.state_dict()}\n",
    "\n",
    "torch.save(checkpoint, file_name)"
   ]
  },
  {
   "cell_type": "markdown",
   "metadata": {
    "colab_type": "text",
    "id": "eUlS6uRFR-ik"
   },
   "source": [
    "## Loading the checkpoint\n",
    "\n",
    "At this point it's good to write a function that can load a checkpoint and rebuild the model. That way you can come back to this project and keep working on it without having to retrain the network."
   ]
  },
  {
   "cell_type": "code",
   "execution_count": 49,
   "metadata": {
    "colab": {
     "base_uri": "https://localhost:8080/",
     "height": 782
    },
    "colab_type": "code",
    "executionInfo": {
     "elapsed": 4490,
     "status": "ok",
     "timestamp": 1546848703320,
     "user": {
      "displayName": "Jhonson Lee",
      "photoUrl": "https://lh4.googleusercontent.com/-AcQ88cJUjnw/AAAAAAAAAAI/AAAAAAAAABU/LIyW-YyHq7s/s64/photo.jpg",
      "userId": "12072072147358097828"
     },
     "user_tz": -420
    },
    "id": "ocH41jlcR-ir",
    "outputId": "c35e8cb2-682b-4f59-8a69-617a7be3f746"
   },
   "outputs": [
    {
     "name": "stdout",
     "output_type": "stream",
     "text": [
      "VGG(\n",
      "  (features): Sequential(\n",
      "    (0): Conv2d(3, 64, kernel_size=(3, 3), stride=(1, 1), padding=(1, 1))\n",
      "    (1): ReLU(inplace)\n",
      "    (2): Conv2d(64, 64, kernel_size=(3, 3), stride=(1, 1), padding=(1, 1))\n",
      "    (3): ReLU(inplace)\n",
      "    (4): MaxPool2d(kernel_size=2, stride=2, padding=0, dilation=1, ceil_mode=False)\n",
      "    (5): Conv2d(64, 128, kernel_size=(3, 3), stride=(1, 1), padding=(1, 1))\n",
      "    (6): ReLU(inplace)\n",
      "    (7): Conv2d(128, 128, kernel_size=(3, 3), stride=(1, 1), padding=(1, 1))\n",
      "    (8): ReLU(inplace)\n",
      "    (9): MaxPool2d(kernel_size=2, stride=2, padding=0, dilation=1, ceil_mode=False)\n",
      "    (10): Conv2d(128, 256, kernel_size=(3, 3), stride=(1, 1), padding=(1, 1))\n",
      "    (11): ReLU(inplace)\n",
      "    (12): Conv2d(256, 256, kernel_size=(3, 3), stride=(1, 1), padding=(1, 1))\n",
      "    (13): ReLU(inplace)\n",
      "    (14): Conv2d(256, 256, kernel_size=(3, 3), stride=(1, 1), padding=(1, 1))\n",
      "    (15): ReLU(inplace)\n",
      "    (16): MaxPool2d(kernel_size=2, stride=2, padding=0, dilation=1, ceil_mode=False)\n",
      "    (17): Conv2d(256, 512, kernel_size=(3, 3), stride=(1, 1), padding=(1, 1))\n",
      "    (18): ReLU(inplace)\n",
      "    (19): Conv2d(512, 512, kernel_size=(3, 3), stride=(1, 1), padding=(1, 1))\n",
      "    (20): ReLU(inplace)\n",
      "    (21): Conv2d(512, 512, kernel_size=(3, 3), stride=(1, 1), padding=(1, 1))\n",
      "    (22): ReLU(inplace)\n",
      "    (23): MaxPool2d(kernel_size=2, stride=2, padding=0, dilation=1, ceil_mode=False)\n",
      "    (24): Conv2d(512, 512, kernel_size=(3, 3), stride=(1, 1), padding=(1, 1))\n",
      "    (25): ReLU(inplace)\n",
      "    (26): Conv2d(512, 512, kernel_size=(3, 3), stride=(1, 1), padding=(1, 1))\n",
      "    (27): ReLU(inplace)\n",
      "    (28): Conv2d(512, 512, kernel_size=(3, 3), stride=(1, 1), padding=(1, 1))\n",
      "    (29): ReLU(inplace)\n",
      "    (30): MaxPool2d(kernel_size=2, stride=2, padding=0, dilation=1, ceil_mode=False)\n",
      "  )\n",
      "  (classifier): Sequential(\n",
      "    (0): Linear(in_features=25088, out_features=1024, bias=True)\n",
      "    (1): ReLU()\n",
      "    (2): Dropout(p=0.0)\n",
      "    (3): Linear(in_features=1024, out_features=1024, bias=True)\n",
      "    (4): ReLU()\n",
      "    (5): Dropout(p=0.0)\n",
      "    (6): Linear(in_features=1024, out_features=102, bias=True)\n",
      "    (7): LogSoftmax()\n",
      "  )\n",
      ")\n"
     ]
    }
   ],
   "source": [
    "# A function that loads a checkpoint and rebuilds the model\n",
    "\n",
    "\n",
    "def load_checkpoint(path):\n",
    "  \n",
    "  drop_prob = 0.0\n",
    "  \n",
    "  # Load previously saved checkpoint\n",
    "  checkpoint = torch.load(path)\n",
    "  \n",
    "  # Model Instatiation\n",
    "  model = models.vgg16(pretrained=False)\n",
    "\n",
    "  # Redefine the classifier\n",
    "  model.classifier = nn.Sequential(nn.Linear(checkpoint['input_layer'], checkpoint['hidden_layer_1']),\n",
    "                                   nn.ReLU(),\n",
    "                                   nn.Dropout(drop_prob),\n",
    "                                   nn.Linear(checkpoint['hidden_layer_1'], checkpoint['hidden_layer_2']),\n",
    "                                   nn.ReLU(),\n",
    "                                   nn.Dropout(drop_prob),\n",
    "                                   nn.Linear(checkpoint['hidden_layer_2'], checkpoint['output_layer']),\n",
    "                                   nn.LogSoftmax(dim=1))\n",
    "  \n",
    "  # Load the parameter\n",
    "  model.load_state_dict(checkpoint['state_dict'])\n",
    "  \n",
    "  # Freeze all the parameters\n",
    "  for param in model.parameters():\n",
    "    param.requires_grad = False\n",
    "  \n",
    "  return model\n",
    "\n",
    "\n",
    "# Loading latest checkpoint\n",
    "file_name = 'model_final.pt'\n",
    "model = load_checkpoint(file_name)\n",
    "\n",
    "print(model)\n"
   ]
  },
  {
   "cell_type": "markdown",
   "metadata": {
    "colab_type": "text",
    "id": "I7dTNZcyR-i8"
   },
   "source": [
    "# Inference for classification\n",
    "\n",
    "Now you'll write a function to use a trained network for inference. That is, you'll pass an image into the network and predict the class of the flower in the image. Write a function called `predict` that takes an image and a model, then returns the top $K$ most likely classes along with the probabilities. It should look like \n",
    "\n",
    "```python\n",
    "probs, classes = predict(image_path, model)\n",
    "print(probs)\n",
    "print(classes)\n",
    "> [ 0.01558163  0.01541934  0.01452626  0.01443549  0.01407339]\n",
    "> ['70', '3', '45', '62', '55']\n",
    "```\n",
    "\n",
    "First you'll need to handle processing the input image such that it can be used in your network. \n",
    "\n",
    "## Image Preprocessing\n",
    "\n",
    "You'll want to use `PIL` to load the image ([documentation](https://pillow.readthedocs.io/en/latest/reference/Image.html)). It's best to write a function that preprocesses the image so it can be used as input for the model. This function should process the images in the same manner used for training. \n",
    "\n",
    "First, resize the images where the shortest side is 256 pixels, keeping the aspect ratio. This can be done with the [`thumbnail`](http://pillow.readthedocs.io/en/3.1.x/reference/Image.html#PIL.Image.Image.thumbnail) or [`resize`](http://pillow.readthedocs.io/en/3.1.x/reference/Image.html#PIL.Image.Image.thumbnail) methods. Then you'll need to crop out the center 224x224 portion of the image.\n",
    "\n",
    "Color channels of images are typically encoded as integers 0-255, but the model expected floats 0-1. You'll need to convert the values. It's easiest with a Numpy array, which you can get from a PIL image like so `np_image = np.array(pil_image)`.\n",
    "\n",
    "As before, the network expects the images to be normalized in a specific way. For the means, it's `[0.485, 0.456, 0.406]` and for the standard deviations `[0.229, 0.224, 0.225]`. You'll want to subtract the means from each color channel, then divide by the standard deviation. \n",
    "\n",
    "And finally, PyTorch expects the color channel to be the first dimension but it's the third dimension in the PIL image and Numpy array. You can reorder dimensions using [`ndarray.transpose`](https://docs.scipy.org/doc/numpy-1.13.0/reference/generated/numpy.ndarray.transpose.html). The color channel needs to be first and retain the order of the other two dimensions."
   ]
  },
  {
   "cell_type": "code",
   "execution_count": 0,
   "metadata": {
    "colab": {},
    "colab_type": "code",
    "id": "iGmo06dFR-jD"
   },
   "outputs": [],
   "source": [
    "def process_image(image):\n",
    "    ''' Scales, crops, and normalizes a PIL image for a PyTorch model,\n",
    "        returns an Numpy array\n",
    "    '''\n",
    "    \n",
    "    width, height = image.size\n",
    "    \n",
    "    # Scale image to minimal dimension of 256\n",
    "    if width > height:\n",
    "        image.thumbnail((999, 256))\n",
    "    else:\n",
    "        image.thumbnail((256, 999))\n",
    "    \n",
    "    # Center crop image to 224x224\n",
    "    width, height = image.size\n",
    "    new_width, new_height = 224, 224\n",
    "    \n",
    "    left = int((width - new_width)/2)\n",
    "    top = int((height - new_height)/2)\n",
    "    right = int((width + new_width)/2)\n",
    "    bottom = int((height + new_height)/2)\n",
    "\n",
    "    image = image.crop((left, top, right, bottom))\n",
    "    \n",
    "    \n",
    "    # Image normalization\n",
    "    np_image = np.array(image)\n",
    "    np_image = np_image/np_image.max()\n",
    "    \n",
    "    norm_mean = [0.485, 0.456, 0.406]\n",
    "    norm_std = [0.229, 0.224, 0.225]\n",
    "    \n",
    "    for i in range(3):\n",
    "        for j in range(224):\n",
    "            for k in range(224):\n",
    "                np_image[j][k][i] = (np_image[j][k][i] - norm_mean[i])/norm_std[i]\n",
    "    \n",
    "    # Convert image into tensor format\n",
    "    np_image = np_image.transpose()\n",
    "    \n",
    "    return(np_image)"
   ]
  },
  {
   "cell_type": "markdown",
   "metadata": {
    "colab_type": "text",
    "id": "83zojVbjR-je"
   },
   "source": [
    "To check your work, the function below converts a PyTorch tensor and displays it in the notebook. If your `process_image` function works, running the output through this function should return the original image (except for the cropped out portions)."
   ]
  },
  {
   "cell_type": "code",
   "execution_count": 0,
   "metadata": {
    "colab": {},
    "colab_type": "code",
    "id": "3Ni_mYJdR-jr"
   },
   "outputs": [],
   "source": [
    "def imshow(image, ax=None, title=None):\n",
    "    \"\"\"Imshow for Tensor.\"\"\"\n",
    "    if ax is None:\n",
    "        fig, ax = plt.subplots()\n",
    "    \n",
    "    # PyTorch tensors assume the color channel is the first dimension\n",
    "    # but matplotlib assumes is the third dimension\n",
    "    image = image.numpy().transpose((1, 2, 0))\n",
    "    \n",
    "    # Undo preprocessing\n",
    "    mean = np.array([0.485, 0.456, 0.406])\n",
    "    std = np.array([0.229, 0.224, 0.225])\n",
    "    image = std * image + mean\n",
    "    \n",
    "    # Image needs to be clipped between 0 and 1 or it looks like noise when displayed\n",
    "    image = np.clip(image, 0, 1)\n",
    "    \n",
    "    ax.imshow(image)\n",
    "    \n",
    "    return ax"
   ]
  },
  {
   "cell_type": "markdown",
   "metadata": {
    "colab_type": "text",
    "id": "P516sERjR-j4"
   },
   "source": [
    "## Class Prediction\n",
    "\n",
    "Once you can get images in the correct format, it's time to write a function for making predictions with your model. A common practice is to predict the top 5 or so (usually called top-$K$) most probable classes. You'll want to calculate the class probabilities then find the $K$ largest values.\n",
    "\n",
    "To get the top $K$ largest values in a tensor use [`x.topk(k)`](http://pytorch.org/docs/master/torch.html#torch.topk). This method returns both the highest `k` probabilities and the indices of those probabilities corresponding to the classes. You need to convert from these indices to the actual class labels using `class_to_idx` which hopefully you added to the model or from an `ImageFolder` you used to load the data ([see here](#Save-the-checkpoint)). Make sure to invert the dictionary so you get a mapping from index to class as well.\n",
    "\n",
    "Again, this method should take a path to an image and a model checkpoint, then return the probabilities and classes.\n",
    "\n",
    "```python\n",
    "probs, classes = predict(image_path, model)\n",
    "print(probs)\n",
    "print(classes)\n",
    "> [ 0.01558163  0.01541934  0.01452626  0.01443549  0.01407339]\n",
    "> ['70', '3', '45', '62', '55']\n",
    "```"
   ]
  },
  {
   "cell_type": "code",
   "execution_count": 0,
   "metadata": {
    "colab": {},
    "colab_type": "code",
    "id": "NlXu_hbtR-j7"
   },
   "outputs": [],
   "source": [
    "def predict(image_path, model, topk=5):\n",
    "    ''' Predict the class (or classes) of an image using a trained deep learning model.\n",
    "    '''\n",
    "    \n",
    "    # Open the image\n",
    "    img = Image.open(image_path)\n",
    "    \n",
    "    # Process image into tensor\n",
    "    img = torch.from_numpy(process_image(img)).float().unsqueeze(0)\n",
    "\n",
    "    # Inference the image\n",
    "    output = model(img)\n",
    "    \n",
    "    # Softmax operation\n",
    "    ps = torch.exp(output)\n",
    "    \n",
    "    # Filter 5 most likely classes\n",
    "    top_p, top_class = ps.topk(topk, dim=1)\n",
    "    top_p = top_p.view(-1)\n",
    "    top_class = top_class.view(-1)\n",
    "    \n",
    "    return(top_p, top_class)\n",
    "    "
   ]
  },
  {
   "cell_type": "markdown",
   "metadata": {
    "colab_type": "text",
    "id": "lb_tN4SVR-kM"
   },
   "source": [
    "## Sanity Checking\n",
    "\n",
    "Now that you can use a trained model for predictions, check to make sure it makes sense. Even if the validation accuracy is high, it's always good to check that there aren't obvious bugs. Use `matplotlib` to plot the probabilities for the top 5 classes as a bar graph, along with the input image. It should look like this:\n",
    "\n",
    "<img src='assets/inference_example.png' width=300px>\n",
    "\n",
    "You can convert from the class integer encoding to actual flower names with the `cat_to_name.json` file (should have been loaded earlier in the notebook). To show a PyTorch tensor as an image, use the `imshow` function defined above."
   ]
  },
  {
   "cell_type": "code",
   "execution_count": 50,
   "metadata": {
    "colab": {
     "base_uri": "https://localhost:8080/",
     "height": 601
    },
    "colab_type": "code",
    "executionInfo": {
     "elapsed": 3079,
     "status": "ok",
     "timestamp": 1546848712647,
     "user": {
      "displayName": "Jhonson Lee",
      "photoUrl": "https://lh4.googleusercontent.com/-AcQ88cJUjnw/AAAAAAAAAAI/AAAAAAAAABU/LIyW-YyHq7s/s64/photo.jpg",
      "userId": "12072072147358097828"
     },
     "user_tz": -420
    },
    "id": "b5qh8M6HR-kQ",
    "outputId": "8d65c47c-623f-47c2-abac-110dddae77ef"
   },
   "outputs": [
    {
     "data": {
      "image/png": "[encoded data removed]",
      "text/plain": [
       "<matplotlib.figure.Figure at 0x7f523a647b00>"
      ]
     },
     "metadata": {
      "tags": []
     },
     "output_type": "display_data"
    }
   ],
   "source": [
    "image_path = 'image.jpg'\n",
    "\n",
    "# Open the image\n",
    "img = Image.open(image_path)\n",
    "\n",
    "# Predict the image using the model\n",
    "probs, classes = predict(image_path, model)\n",
    "\n",
    "# Display an image along with the top 5 classes\n",
    "fig, (ax1, ax2) = plt.subplots(figsize=(6,9), nrows=2)\n",
    "\n",
    "ax1.set_title(cat_to_name[str(classes.data[0].item()+1)])\n",
    "ax1.imshow(img)\n",
    "ax1.grid('off')\n",
    "\n",
    "ax2.barh(np.arange(5), probs.numpy())\n",
    "ax2.set_aspect(0.1)\n",
    "ax2.set_yticks(np.arange(5))\n",
    "\n",
    "class_list = []\n",
    "for i in range(5):\n",
    "  class_list.append(cat_to_name[str(classes.data[i].item()+1)])\n",
    "\n",
    "ax2.set_yticklabels(class_list)\n",
    "ax2.set_title('Class Probability')\n",
    "ax2.set_xlim(0, 1.1)\n",
    "\n",
    "plt.tight_layout()\n",
    "\n",
    "\n"
   ]
  }
 ],
 "metadata": {
  "accelerator": "GPU",
  "colab": {
   "collapsed_sections": [],
   "name": "Image Classifier Project.ipynb",
   "provenance": [],
   "version": "0.3.2"
  },
  "kernelspec": {
   "display_name": "Python 3",
   "language": "python",
   "name": "python3"
  },
  "language_info": {
   "codemirror_mode": {
    "name": "ipython",
    "version": 3
   },
   "file_extension": ".py",
   "mimetype": "text/x-python",
   "name": "python",
   "nbconvert_exporter": "python",
   "pygments_lexer": "ipython3",
   "version": "3.7.2"
  }
 },
 "nbformat": 4,
 "nbformat_minor": 1
}
